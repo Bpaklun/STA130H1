{
 "cells": [
  {
   "cell_type": "markdown",
   "id": "e49ba535",
   "metadata": {},
   "source": [
    "# STA130 Homework 08\n"
   ]
  },
  {
   "cell_type": "markdown",
   "id": "c321d58f",
   "metadata": {},
   "source": [
    "## Pre-lecture HW"
   ]
  },
  {
   "cell_type": "markdown",
   "id": "a4b46ae7",
   "metadata": {},
   "source": [
    "## 1\n",
    "#### Definition\n",
    "A classification decision tree is a machine learning model used to categorize data into predefined classes or categories. In statistics, a Classification Decision Tree addresses problems of categorical prediction or classification.\n",
    "\n",
    "#### Real-world Application\n",
    "Healthcare:\n",
    "- Predicting whether a patient has a disease based on symptoms and medical history.\n",
    "    - Classifying patients as \"diabetic\" or \"non-diabetic\" based on age, BMI, blood pressure, and glucose levels.\n",
    "\n",
    "Finance:\n",
    "- Addresing credit risk:\n",
    "    - Predicting whether a loan applicant is a \"high risk\" or \"low risk\" borrower based on credit history, income, and employment status.\n",
    "    \n",
    "Education:\n",
    "- Predicting student outcomes\n",
    "    - Determining whether a student will \"pass\" or \"fail\" a course based on attendance, assignment scores, and participation levels.\n",
    "\n",
    "#### Key Differences in How a Classification Decision Tree and Multiple Linear Regression Make Predictions\n",
    "| Aspect                          | Classification Decision Tree                                      | Multiple Linear Regression                                      |\n",
    "|---------------------------------|-------------------------------------------------------------------|-----------------------------------------------------------------|\n",
    "| **Problem Type**                | Classification (categorical outcomes).                           | Regression (continuous outcomes).                              |\n",
    "| **Output**                      | Predicts a class label (e.g., Yes/No, A/B/C).                    | Predicts a numerical value.                                    |\n",
    "| **Model Structure**             | A tree-like structure where splits are based on feature thresholds. | A linear equation with coefficients for each feature.          |\n",
    "| **Decision Process**            | Recursive binary splits that map observations to class labels.   | Computes a weighted sum of predictors to estimate the response.|\n",
    "| **Key Metrics**                 | Uses metrics like Gini impurity or entropy to split nodes.       | Uses metrics like Mean Squared Error (MSE) to estimate parameters.|\n"
   ]
  },
  {
   "cell_type": "markdown",
   "id": "ed28d447",
   "metadata": {},
   "source": [
    "## 2"
   ]
  },
  {
   "cell_type": "markdown",
   "id": "9cd11e2d",
   "metadata": {},
   "source": [
    "### Accuracy:\n",
    "Measures the overall proportion of correct predictionsout of all predictions:\n",
    "- Best used when false positives and false negatives have similar consequences, and the dataset is balanced\n",
    "- RWE: Incorrectly labeling a spam email as non-spam and vice versa has roughly equal consequences, accuracy is a good metric to evaluate the model\n",
    "\n",
    "### Sensitivity:\n",
    "Measures the proportion of actual positives that are correctly identified by the model:\n",
    "- When missing true positives is more critical than falsely identifying negatives.\n",
    "- RWE: In cancer screening, a high sensitivity ensures that most patients with cancer are correctly identified, even at the cost of some false positives\n",
    "\n",
    "### Specificity:\n",
    "Measures the proportion of actual negatives that are correctly identified as such:\n",
    "- When avoiding false positives is crucial.\n",
    "- RWE: A high specificity is important to minimize the number of healthy individuals falsely diagnosed as HIV-positive\n",
    "\n",
    "### Precision:\n",
    "Measures the proportion of positive predictions that are actually correct:\n",
    "- When avoiding false positives is more important than identifying all true positives.\n",
    "- RWE: In credit card fraud detection, high precision ensures that flagged transactions are very likely to be fraudulent, reducing the inconvenience caused to legitimate customers by false alarms."
   ]
  },
  {
   "cell_type": "markdown",
   "id": "a41eb546",
   "metadata": {},
   "source": [
    "## 3"
   ]
  },
  {
   "cell_type": "code",
   "execution_count": 15,
   "id": "d028b7ee",
   "metadata": {},
   "outputs": [],
   "source": [
    "import pandas as pd\n",
    "import numpy as np\n",
    "from sklearn import tree\n",
    "from sklearn.model_selection import train_test_split\n",
    "from sklearn.metrics import confusion_matrix, ConfusionMatrixDisplay\n",
    "from sklearn.metrics import accuracy_score, recall_score, make_scorer\n",
    "import graphviz as gv\n",
    "\n",
    "url = \"https://raw.githubusercontent.com/pointOfive/STA130_F23/main/Data/amazonbooks.csv\"\n",
    "ab = pd.read_csv(url, encoding=\"ISO-8859-1\")\n",
    "# create `ab_reduced_noNaN` based on the specs above"
   ]
  },
  {
   "cell_type": "code",
   "execution_count": 16,
   "id": "b76df91d",
   "metadata": {},
   "outputs": [
    {
     "name": "stdout",
     "output_type": "stream",
     "text": [
      "\n",
      "Data types after preprocessing:\n",
      " Title              object\n",
      "Author             object\n",
      "List Price        float64\n",
      "Amazon Price      float64\n",
      "Hard_or_Paper    category\n",
      "NumPages            int64\n",
      "Publisher          object\n",
      "Pub year            int64\n",
      "ISBN-10            object\n",
      "Thick             float64\n",
      "dtype: object\n",
      "\n",
      "Basic statistics:\n",
      "                    Title        Author  List Price  Amazon Price  \\\n",
      "count                319           319  319.000000    319.000000   \n",
      "unique               309           251         NaN           NaN   \n",
      "top     The Great Gatsby  Jodi Picoult         NaN           NaN   \n",
      "freq                   3             7         NaN           NaN   \n",
      "mean                 NaN           NaN   18.362978     12.941034   \n",
      "std                  NaN           NaN   13.976755     12.436673   \n",
      "min                  NaN           NaN    1.500000      0.770000   \n",
      "25%                  NaN           NaN   13.890000      8.600000   \n",
      "50%                  NaN           NaN   15.000000     10.200000   \n",
      "75%                  NaN           NaN   19.360000     12.560000   \n",
      "max                  NaN           NaN  139.950000    139.950000   \n",
      "\n",
      "       Hard_or_Paper    NumPages Publisher     Pub year    ISBN-10       Thick  \n",
      "count            319  319.000000       319   319.000000        319  319.000000  \n",
      "unique             2         NaN       158          NaN        316         NaN  \n",
      "top                P         NaN   Vintage          NaN  743273567         NaN  \n",
      "freq             233         NaN        37          NaN          2         NaN  \n",
      "mean             NaN  334.272727       NaN  2002.175549        NaN    0.903448  \n",
      "std              NaN  161.601510       NaN    10.646133        NaN    0.365261  \n",
      "min              NaN   24.000000       NaN  1936.000000        NaN    0.100000  \n",
      "25%              NaN  208.000000       NaN  1998.000000        NaN    0.600000  \n",
      "50%              NaN  320.000000       NaN  2005.000000        NaN    0.900000  \n",
      "75%              NaN  416.000000       NaN  2010.000000        NaN    1.100000  \n",
      "max              NaN  896.000000       NaN  2011.000000        NaN    2.100000  \n",
      "\n",
      "Number of unique values per column:\n",
      " Title            309\n",
      "Author           251\n",
      "List Price        97\n",
      "Amazon Price     204\n",
      "Hard_or_Paper      2\n",
      "NumPages         107\n",
      "Publisher        158\n",
      "Pub year          37\n",
      "ISBN-10          316\n",
      "Thick             20\n",
      "dtype: int64\n",
      "\n",
      "Value counts for 'Hard_or_Paper':\n",
      " Hard_or_Paper\n",
      "P    233\n",
      "H     86\n",
      "Name: count, dtype: int64\n",
      "\n",
      "Correlation matrix:\n",
      "               List Price  Amazon Price  NumPages  Pub year     Thick\n",
      "List Price      1.000000      0.955262  0.205665  0.140999  0.143399\n",
      "Amazon Price    0.955262      1.000000  0.131343  0.085508  0.037506\n",
      "NumPages        0.205665      0.131343  1.000000  0.246888  0.808662\n",
      "Pub year        0.140999      0.085508  0.246888  1.000000  0.318464\n",
      "Thick           0.143399      0.037506  0.808662  0.318464  1.000000\n"
     ]
    }
   ],
   "source": [
    "import pandas as pd\n",
    "import numpy as np\n",
    "\n",
    "# Load dataset\n",
    "url = \"https://raw.githubusercontent.com/pointOfive/STA130_F23/main/Data/amazonbooks.csv\"\n",
    "ab = pd.read_csv(url, encoding=\"ISO-8859-1\")\n",
    "\n",
    "# Remove 'Weight_oz', 'Width', and 'Height' columns\n",
    "columns_to_remove = ['Weight_oz', 'Width', 'Height']\n",
    "ab_reduced = ab.drop(columns=columns_to_remove)\n",
    "\n",
    "# Drop rows with NaN entries and use `.copy()` to avoid SettingWithCopyWarning\n",
    "ab_reduced_noNaN = ab_reduced.dropna().copy()\n",
    "\n",
    "# Set 'Pub year' and 'NumPages' to have type int\n",
    "ab_reduced_noNaN['Pub year'] = ab_reduced_noNaN['Pub year'].astype(int)\n",
    "ab_reduced_noNaN['NumPages'] = ab_reduced_noNaN['NumPages'].astype(int)\n",
    "\n",
    "# Set 'Hard_or_Paper' to have type category\n",
    "ab_reduced_noNaN['Hard_or_Paper'] = ab_reduced_noNaN['Hard_or_Paper'].astype('category')\n",
    "\n",
    "# Verify data types after preprocessing\n",
    "print(\"\\nData types after preprocessing:\\n\", ab_reduced_noNaN.dtypes)\n",
    "\n",
    "# Perform standard EDA\n",
    "print(\"\\nBasic statistics:\\n\", ab_reduced_noNaN.describe(include='all'))\n",
    "print(\"\\nNumber of unique values per column:\\n\", ab_reduced_noNaN.nunique())\n",
    "print(\"\\nValue counts for 'Hard_or_Paper':\\n\", ab_reduced_noNaN['Hard_or_Paper'].value_counts())\n",
    "\n",
    "# Check for correlations among numerical variables only\n",
    "numeric_columns = ab_reduced_noNaN.select_dtypes(include=['int64', 'float64'])\n",
    "correlation_matrix = numeric_columns.corr()\n",
    "print(\"\\nCorrelation matrix:\\n\", correlation_matrix)\n"
   ]
  },
  {
   "cell_type": "code",
   "execution_count": 17,
   "id": "f19e0127",
   "metadata": {},
   "outputs": [
    {
     "name": "stdout",
     "output_type": "stream",
     "text": [
      "Remaining columns: Index(['Title', 'Author', 'List Price', 'Amazon Price', 'Hard_or_Paper',\n",
      "       'NumPages', 'Publisher', 'Pub year', 'ISBN-10', 'Thick'],\n",
      "      dtype='object')\n",
      "Missing values per column:\n",
      " Title            0\n",
      "Author           0\n",
      "List Price       0\n",
      "Amazon Price     0\n",
      "Hard_or_Paper    0\n",
      "NumPages         0\n",
      "Publisher        0\n",
      "Pub year         0\n",
      "ISBN-10          0\n",
      "Thick            0\n",
      "dtype: int64\n",
      "Data types:\n",
      " Title              object\n",
      "Author             object\n",
      "List Price        float64\n",
      "Amazon Price      float64\n",
      "Hard_or_Paper    category\n",
      "NumPages            int64\n",
      "Publisher          object\n",
      "Pub year            int64\n",
      "ISBN-10            object\n",
      "Thick             float64\n",
      "dtype: object\n",
      "                                               Title           Author  \\\n",
      "0  1,001 Facts that Will Scare the S#*t Out of Yo...      Cary McNeal   \n",
      "1  21: Bringing Down the House - Movie Tie-In: Th...      Ben Mezrich   \n",
      "2       100 Best-Loved Poems (Dover Thrift Editions)            Smith   \n",
      "3            1421: The Year China Discovered America    Gavin Menzies   \n",
      "4    1493: Uncovering the New World Columbus Created  Charles C. Mann   \n",
      "\n",
      "   List Price  Amazon Price Hard_or_Paper  NumPages           Publisher  \\\n",
      "0       12.95          5.18             P       304         Adams Media   \n",
      "1       15.00         10.20             P       273          Free Press   \n",
      "2        1.50          1.50             P        96  Dover Publications   \n",
      "3       15.99         10.87             P       672    Harper Perennial   \n",
      "4       30.50         16.77             P       720               Knopf   \n",
      "\n",
      "   Pub year     ISBN-10  Thick  \n",
      "0      2010  1605506249    0.8  \n",
      "1      2008  1416564195    0.7  \n",
      "2      1995   486285537    0.3  \n",
      "3      2008    61564893    1.6  \n",
      "4      2011   307265722    1.4  \n",
      "Value counts for 'Hard_or_Paper':\n",
      " Hard_or_Paper\n",
      "P    233\n",
      "H     86\n",
      "Name: count, dtype: int64\n",
      "Shape of the DataFrame: (319, 10)\n"
     ]
    }
   ],
   "source": [
    "print(\"Remaining columns:\", ab_reduced_noNaN.columns)\n",
    "print(\"Missing values per column:\\n\", ab_reduced_noNaN.isnull().sum())\n",
    "print(\"Data types:\\n\", ab_reduced_noNaN.dtypes)\n",
    "print(ab_reduced_noNaN.head())\n",
    "print(\"Value counts for 'Hard_or_Paper':\\n\", ab_reduced_noNaN['Hard_or_Paper'].value_counts())\n",
    "print(\"Shape of the DataFrame:\", ab_reduced_noNaN.shape)"
   ]
  },
  {
   "cell_type": "markdown",
   "id": "ab5e9def",
   "metadata": {},
   "source": [
    "## 4"
   ]
  },
  {
   "cell_type": "markdown",
   "id": "794a7335",
   "metadata": {},
   "source": [
    "`y = pd.get_dummies(ab_reduced_noNaN[\"Hard_or_Paper\"])['H']:`\n",
    "\n",
    "This converts the Hard_or_Paper column into dummy (binary) variables. pd.get_dummies creates a DataFrame with columns for each category, and then `['H']` selects the column corresponding to the hardback (or hardcover) books. This results in a binary series (0 or 1), where `1` indicates that a book is hard cover and `0` indicates it is not.\n",
    "\n",
    "`X = ab_reduced_noNaN[['List Price']]:`\n",
    "\n",
    "This selects the List Price column as the feature (independent variable) to predict whether the book is hard cover or paperback."
   ]
  },
  {
   "cell_type": "code",
   "execution_count": 18,
   "id": "b2ba6148",
   "metadata": {},
   "outputs": [
    {
     "name": "stdout",
     "output_type": "stream",
     "text": [
      "Accuracy on test set: 0.84375\n"
     ]
    },
    {
     "data": {
      "image/png": "[encoded data removed]",
      "text/plain": [
       "<Figure size 640x480 with 1 Axes>"
      ]
     },
     "metadata": {},
     "output_type": "display_data"
    }
   ],
   "source": [
    "# Step 1: Prepare target and feature\n",
    "y = pd.get_dummies(ab_reduced_noNaN[\"Hard_or_Paper\"])['H']  # Target variable\n",
    "X = ab_reduced_noNaN[['List Price']]  # Feature variable\n",
    "\n",
    "# Step 2: Split the data into training and testing sets (80/20)\n",
    "X_train, X_test, y_train, y_test = train_test_split(X, y, test_size=0.2, random_state=42)\n",
    "\n",
    "# Step 3: Initialize the DecisionTreeClassifier with max_depth=2\n",
    "clf = tree.DecisionTreeClassifier(max_depth=2, random_state=42)\n",
    "\n",
    "# Step 4: Train the classifier\n",
    "clf.fit(X_train, y_train)\n",
    "\n",
    "# Step 5: Plot the decision tree\n",
    "tree.plot_tree(clf, filled=True, feature_names=['List Price'], class_names=['Not Hard', 'Hard'], rounded=True)\n",
    "\n",
    "# Step 6: Evaluate the classifier on the test set (optional, but useful for checking accuracy)\n",
    "y_pred = clf.predict(X_test)\n",
    "print(\"Accuracy on test set:\", accuracy_score(y_test, y_pred))\n"
   ]
  },
  {
   "cell_type": "code",
   "execution_count": 19,
   "id": "2956c6fb",
   "metadata": {},
   "outputs": [
    {
     "name": "stdout",
     "output_type": "stream",
     "text": [
      "Number of observations in the training set: 255\n",
      "Number of observations in the test set: 64\n"
     ]
    }
   ],
   "source": [
    "print(\"Number of observations in the training set:\", X_train.shape[0])\n",
    "print(\"Number of observations in the test set:\", X_test.shape[0])"
   ]
  },
  {
   "cell_type": "markdown",
   "id": "2e63b47c",
   "metadata": {},
   "source": [
    "`tree.plot_tree(clf)` is used to visualize the fitted decision tree, and helps explain how the model is making predictions based on the List Price\n",
    "\n",
    "Each node will display the feature `(List Price)`, the threshold for splitting, and the class distribution at that node.\n",
    "\n",
    "The leaf nodes will show the predicted class (e.g., `1` for hard cover, `0` for paperback) along with the proportion of samples in each class."
   ]
  },
  {
   "cell_type": "markdown",
   "id": "9477a792",
   "metadata": {},
   "source": [
    "## Post-lecture HW"
   ]
  },
  {
   "cell_type": "markdown",
   "id": "1d084b12",
   "metadata": {},
   "source": [
    "## 5"
   ]
  },
  {
   "cell_type": "code",
   "execution_count": 20,
   "id": "49e19ffb",
   "metadata": {},
   "outputs": [
    {
     "name": "stdout",
     "output_type": "stream",
     "text": [
      "Training set size: (255, 3)\n",
      "Test set size: (64, 3)\n"
     ]
    },
    {
     "data": {
      "text/html": [
       "<style>#sk-container-id-2 {color: black;}#sk-container-id-2 pre{padding: 0;}#sk-container-id-2 div.sk-toggleable {background-color: white;}#sk-container-id-2 label.sk-toggleable__label {cursor: pointer;display: block;width: 100%;margin-bottom: 0;padding: 0.3em;box-sizing: border-box;text-align: center;}#sk-container-id-2 label.sk-toggleable__label-arrow:before {content: \"▸\";float: left;margin-right: 0.25em;color: #696969;}#sk-container-id-2 label.sk-toggleable__label-arrow:hover:before {color: black;}#sk-container-id-2 div.sk-estimator:hover label.sk-toggleable__label-arrow:before {color: black;}#sk-container-id-2 div.sk-toggleable__content {max-height: 0;max-width: 0;overflow: hidden;text-align: left;background-color: #f0f8ff;}#sk-container-id-2 div.sk-toggleable__content pre {margin: 0.2em;color: black;border-radius: 0.25em;background-color: #f0f8ff;}#sk-container-id-2 input.sk-toggleable__control:checked~div.sk-toggleable__content {max-height: 200px;max-width: 100%;overflow: auto;}#sk-container-id-2 input.sk-toggleable__control:checked~label.sk-toggleable__label-arrow:before {content: \"▾\";}#sk-container-id-2 div.sk-estimator input.sk-toggleable__control:checked~label.sk-toggleable__label {background-color: #d4ebff;}#sk-container-id-2 div.sk-label input.sk-toggleable__control:checked~label.sk-toggleable__label {background-color: #d4ebff;}#sk-container-id-2 input.sk-hidden--visually {border: 0;clip: rect(1px 1px 1px 1px);clip: rect(1px, 1px, 1px, 1px);height: 1px;margin: -1px;overflow: hidden;padding: 0;position: absolute;width: 1px;}#sk-container-id-2 div.sk-estimator {font-family: monospace;background-color: #f0f8ff;border: 1px dotted black;border-radius: 0.25em;box-sizing: border-box;margin-bottom: 0.5em;}#sk-container-id-2 div.sk-estimator:hover {background-color: #d4ebff;}#sk-container-id-2 div.sk-parallel-item::after {content: \"\";width: 100%;border-bottom: 1px solid gray;flex-grow: 1;}#sk-container-id-2 div.sk-label:hover label.sk-toggleable__label {background-color: #d4ebff;}#sk-container-id-2 div.sk-serial::before {content: \"\";position: absolute;border-left: 1px solid gray;box-sizing: border-box;top: 0;bottom: 0;left: 50%;z-index: 0;}#sk-container-id-2 div.sk-serial {display: flex;flex-direction: column;align-items: center;background-color: white;padding-right: 0.2em;padding-left: 0.2em;position: relative;}#sk-container-id-2 div.sk-item {position: relative;z-index: 1;}#sk-container-id-2 div.sk-parallel {display: flex;align-items: stretch;justify-content: center;background-color: white;position: relative;}#sk-container-id-2 div.sk-item::before, #sk-container-id-2 div.sk-parallel-item::before {content: \"\";position: absolute;border-left: 1px solid gray;box-sizing: border-box;top: 0;bottom: 0;left: 50%;z-index: -1;}#sk-container-id-2 div.sk-parallel-item {display: flex;flex-direction: column;z-index: 1;position: relative;background-color: white;}#sk-container-id-2 div.sk-parallel-item:first-child::after {align-self: flex-end;width: 50%;}#sk-container-id-2 div.sk-parallel-item:last-child::after {align-self: flex-start;width: 50%;}#sk-container-id-2 div.sk-parallel-item:only-child::after {width: 0;}#sk-container-id-2 div.sk-dashed-wrapped {border: 1px dashed gray;margin: 0 0.4em 0.5em 0.4em;box-sizing: border-box;padding-bottom: 0.4em;background-color: white;}#sk-container-id-2 div.sk-label label {font-family: monospace;font-weight: bold;display: inline-block;line-height: 1.2em;}#sk-container-id-2 div.sk-label-container {text-align: center;}#sk-container-id-2 div.sk-container {/* jupyter's `normalize.less` sets `[hidden] { display: none; }` but bootstrap.min.css set `[hidden] { display: none !important; }` so we also need the `!important` here to be able to override the default hidden behavior on the sphinx rendered scikit-learn.org. See: https://github.com/scikit-learn/scikit-learn/issues/21755 */display: inline-block !important;position: relative;}#sk-container-id-2 div.sk-text-repr-fallback {display: none;}</style><div id=\"sk-container-id-2\" class=\"sk-top-container\"><div class=\"sk-text-repr-fallback\"><pre>DecisionTreeClassifier(max_depth=4, random_state=42)</pre><b>In a Jupyter environment, please rerun this cell to show the HTML representation or trust the notebook. <br />On GitHub, the HTML representation is unable to render, please try loading this page with nbviewer.org.</b></div><div class=\"sk-container\" hidden><div class=\"sk-item\"><div class=\"sk-estimator sk-toggleable\"><input class=\"sk-toggleable__control sk-hidden--visually\" id=\"sk-estimator-id-2\" type=\"checkbox\" checked><label for=\"sk-estimator-id-2\" class=\"sk-toggleable__label sk-toggleable__label-arrow\">DecisionTreeClassifier</label><div class=\"sk-toggleable__content\"><pre>DecisionTreeClassifier(max_depth=4, random_state=42)</pre></div></div></div></div></div>"
      ],
      "text/plain": [
       "DecisionTreeClassifier(max_depth=4, random_state=42)"
      ]
     },
     "execution_count": 20,
     "metadata": {},
     "output_type": "execute_result"
    }
   ],
   "source": [
    "# Target variable\n",
    "y = pd.get_dummies(ab_reduced_noNaN[\"Hard_or_Paper\"])['H']  # 1 for Hard, 0 for Paper\n",
    "\n",
    "# Predictor variables for clf2\n",
    "X = ab_reduced_noNaN[['NumPages', 'Thick', 'List Price']]  # Features\n",
    "\n",
    "from sklearn.model_selection import train_test_split\n",
    "\n",
    "# 80/20 split\n",
    "X_train, X_test, y_train, y_test = train_test_split(X, y, test_size=0.2, random_state=42)\n",
    "\n",
    "print(\"Training set size:\", X_train.shape)\n",
    "print(\"Test set size:\", X_test.shape)\n",
    "\n",
    "from sklearn import tree\n",
    "\n",
    "# Initialize Decision Tree Classifier\n",
    "clf2 = tree.DecisionTreeClassifier(max_depth=4, random_state=42)\n",
    "\n",
    "# Train the classifier\n",
    "clf2.fit(X_train, y_train)\n"
   ]
  },
  {
   "cell_type": "markdown",
   "id": "86338958",
   "metadata": {},
   "source": [
    "#### How predictions are made for the clf2 model:\n",
    "Predictions for clf2 are made by traversing the tree from the root to a leaf node, following the decision rules at each node. It works by recursively splitting the dataset into subsets based on decision rules derived from the feature values (NumPages, Thick, and List Price in this case).\n",
    "\n",
    "The tree consists of nodes:\n",
    "- Root Node: The topmost node that considers all training data.\n",
    "- Internal Nodes: Each internal node splits the data based on a decision rule for one feature.\n",
    "- Leaf Nodes: The terminal nodes where the decision is made (classifies as either \"Paper\" or \"Hard\").\n",
    "\n",
    "At each node:\n",
    "- The algorithm chooses the feature and threshold that best separate the target classes (e.g., \"Hard\" vs. \"Paper\") based on measures like Gini Impurity or Entropy."
   ]
  },
  {
   "cell_type": "markdown",
   "id": "5567451b",
   "metadata": {},
   "source": [
    "## 6"
   ]
  },
  {
   "cell_type": "markdown",
   "id": "5a447787",
   "metadata": {},
   "source": [
    "#### Define Positive and Negative Classes\n",
    "- Positive class (\"Hard\"): Books with `Hard_or_Paper = \"Hard\"`.\n",
    "- Negative class (\"Not Hard\"): Books with `Hard_or_Paper = \"Paper\"`.\n",
    "\n",
    "#### Metrics from the confusion matrix\n",
    "- True Positives (TP): Correctly predicted \"Hard\" books.\n",
    "- True Negatives (TN): Correctly predicted \"Not Hard\" books.\n",
    "- False Positives (FP): Predicted \"Hard\" when it’s actually \"Not Hard.\"\n",
    "- False Negatives (FN): Predicted \"Not Hard\" when it’s actually \"Hard.\""
   ]
  },
  {
   "cell_type": "code",
   "execution_count": 32,
   "id": "771dc266",
   "metadata": {},
   "outputs": [
    {
     "name": "stdout",
     "output_type": "stream",
     "text": [
      "Decision Tree Classifier (clf):\n",
      "Sensitivity: 0.7\n",
      "Specificity: 0.909\n",
      "Accuracy: 0.844\n",
      "Decision Tree Classifier (clf2):\n",
      "Sensitivity: 0.7\n",
      "Specificity: 0.909\n",
      "Accuracy: 0.844\n"
     ]
    },
    {
     "data": {
      "text/plain": [
       "<sklearn.metrics._plot.confusion_matrix.ConfusionMatrixDisplay at 0x7fb9306298d0>"
      ]
     },
     "execution_count": 32,
     "metadata": {},
     "output_type": "execute_result"
    },
    {
     "data": {
      "image/png": "[encoded data removed]",
      "text/plain": [
       "<Figure size 640x480 with 2 Axes>"
      ]
     },
     "metadata": {},
     "output_type": "display_data"
    },
    {
     "data": {
      "image/png": "[encoded data removed]",
      "text/plain": [
       "<Figure size 640x480 with 2 Axes>"
      ]
     },
     "metadata": {},
     "output_type": "display_data"
    }
   ],
   "source": [
    "import numpy as np\n",
    "import pandas as pd\n",
    "from sklearn.model_selection import train_test_split\n",
    "from sklearn.tree import DecisionTreeClassifier\n",
    "from sklearn.metrics import confusion_matrix, accuracy_score, ConfusionMatrixDisplay\n",
    "\n",
    "# Step 1: Prepare target and feature\n",
    "y = pd.get_dummies(ab_reduced_noNaN[\"Hard_or_Paper\"])['H']  # Target variable (Hard = 1)\n",
    "X = ab_reduced_noNaN[['List Price']]  # Feature variable\n",
    "\n",
    "# Step 2: Split the data into training and testing sets (80/20)\n",
    "X_train, X_test, y_train, y_test = train_test_split(X, y, test_size=0.2, random_state=42)\n",
    "\n",
    "# Step 3: Initialize the DecisionTreeClassifier with max_depth=2\n",
    "clf = DecisionTreeClassifier(max_depth=2, random_state=42)\n",
    "\n",
    "# Step 4: Train the classifier\n",
    "clf.fit(X_train, y_train)\n",
    "\n",
    "# Step 5: Predict on the test set\n",
    "y_pred = clf.predict(X_test)\n",
    "\n",
    "# Step 6: Compute Confusion Matrix for clf\n",
    "cm_clf = confusion_matrix(y_test, y_pred, labels=[0, 1])\n",
    "TN, FP, FN, TP = cm_clf.ravel()\n",
    "\n",
    "# Step 7: Calculate Sensitivity, Specificity, and Accuracy for clf\n",
    "sensitivity_clf = TP / (TP + FN)\n",
    "specificity_clf = TN / (TN + FP)\n",
    "accuracy_clf = (TP + TN) / (TP + TN + FP + FN)\n",
    "\n",
    "# Step 8: Print results for clf\n",
    "print(\"Decision Tree Classifier (clf):\")\n",
    "print(f\"Sensitivity: {np.round(sensitivity_clf, 3)}\")\n",
    "print(f\"Specificity: {np.round(specificity_clf, 3)}\")\n",
    "print(f\"Accuracy: {np.round(accuracy_clf, 3)}\")\n",
    "\n",
    "# Step 9: Display Confusion Matrix for clf\n",
    "ConfusionMatrixDisplay(cm_clf, display_labels=[\"Paper\", \"Hard\"]).plot()\n",
    "\n",
    "# ---- Repeat for clf2 ----\n",
    "# Assuming clf2 is another classifier model\n",
    "clf2 = DecisionTreeClassifier(max_depth=3, random_state=42)\n",
    "clf2.fit(X_train, y_train)\n",
    "y_pred2 = clf2.predict(X_test)\n",
    "\n",
    "# Compute Confusion Matrix for clf2\n",
    "cm_clf2 = confusion_matrix(y_test, y_pred2, labels=[0, 1])\n",
    "TN2, FP2, FN2, TP2 = cm_clf2.ravel()\n",
    "\n",
    "# Calculate Sensitivity, Specificity, and Accuracy for clf2\n",
    "sensitivity_clf2 = TP2 / (TP2 + FN2)\n",
    "specificity_clf2 = TN2 / (TN2 + FP2)\n",
    "accuracy_clf2 = (TP2 + TN2) / (TP2 + TN2 + FP2 + FN2)\n",
    "\n",
    "# Print results for clf2\n",
    "print(\"Decision Tree Classifier (clf2):\")\n",
    "print(f\"Sensitivity: {np.round(sensitivity_clf2, 3)}\")\n",
    "print(f\"Specificity: {np.round(specificity_clf2, 3)}\")\n",
    "print(f\"Accuracy: {np.round(accuracy_clf2, 3)}\")\n",
    "\n",
    "# Display Confusion Matrix for clf2\n",
    "ConfusionMatrixDisplay(cm_clf2, display_labels=[\"Paper\", \"Hard\"]).plot()\n"
   ]
  },
  {
   "cell_type": "markdown",
   "id": "0a751fa4",
   "metadata": {},
   "source": [
    "## 7"
   ]
  },
  {
   "cell_type": "code",
   "execution_count": null,
   "id": "3da20ab5",
   "metadata": {},
   "outputs": [],
   "source": [
    "ConfusionMatrixDisplay(\n",
    "    confusion_matrix(ab_reduced_noNaN_train.life_exp_good, \n",
    "                     clf.predict(ab_reduced_noNaN_train[['List Price']]), \n",
    "                     labels=[0, 1]), display_labels=[\"Paper\",\"Hard\"]).plot()\n",
    "ConfusionMatrixDisplay(\n",
    "    confusion_matrix(ab_reduced_noNaN_train.life_exp_good, \n",
    "                     clf.predict(\n",
    "                         ab_reduced_noNaN_train[['NumPages','Thick','List Price']]), \n",
    "                     labels=[0, 1]), display_labels=[\"Paper\",\"Hard\"]).plot()"
   ]
  },
  {
   "cell_type": "markdown",
   "id": "500502c5",
   "metadata": {},
   "source": [
    "#### Limitations of these models:\n",
    "The first model uses only the List Price feature for prediction. If the relationship between List Price and the target variable (Hard_or_Paper) is weak, the model might not perform very well.\n",
    "\n",
    "The second model uses additional features such as NumPages and Thick, alongside List Price. These additional features provide more predictive power and better correlate with the target variable\n",
    "\n",
    "Furthermore, a low max_depth means the tree can only create very simple rules, which might not capture the intricacies in the data. A slightly deeper tree may have more flexibility and be able to capture more complex relationships between features and the target variable, leading to better performance.\n",
    "\n",
    "If the target variable (Hard_or_Paper) is imbalanced (e.g., a majority of \"Paper\" instances and a minority of \"Hard\"), the confusion matrix for both models might show a bias towards the majority class. Class imbalance might be affecting how each model classifies the minority class.\n",
    "\n",
    "#### Why the models above are better:\n",
    "- clf uses List Price, and clf2 uses List Price, NumPages, and Thick which are much more precise and well chosen, leading to better predictions.\n",
    "- It uses a appropriate `max_depth` which allows each model to be complex enough to capture the necessary patterns in the data without overfitting\n",
    "- The confusion matrices for clf and clf2 are visualized properly with ConfusionMatrixDisplay"
   ]
  }
 ],
 "metadata": {
  "kernelspec": {
   "display_name": "Python 3 (ipykernel)",
   "language": "python",
   "name": "python3"
  },
  "language_info": {
   "codemirror_mode": {
    "name": "ipython",
    "version": 3
   },
   "file_extension": ".py",
   "mimetype": "text/x-python",
   "name": "python",
   "nbconvert_exporter": "python",
   "pygments_lexer": "ipython3",
   "version": "3.11.6"
  }
 },
 "nbformat": 4,
 "nbformat_minor": 5
}
