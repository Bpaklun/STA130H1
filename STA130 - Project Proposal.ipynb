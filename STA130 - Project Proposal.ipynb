{
 "cells": [
  {
   "cell_type": "markdown",
   "id": "dba5b367",
   "metadata": {},
   "source": [
    "## Project Proposal:"
   ]
  },
  {
   "cell_type": "markdown",
   "id": "6c8c6cb8",
   "metadata": {},
   "source": [
    "### Research Question:\n",
    "**How does time spent socializing affect adherence to COVID-19 prevention practices?**\n",
    "\n",
    "For this research, I plan to explore the relationship between social interaction time with friends and COVID-19 preventive behaviors, specifically mask-wearing and physical distancing.\n",
    "\n",
    "**Variables to Explore:**\n",
    "- **CONNECTION_social_time_friends_p7d_grouped**: \n",
    "    - Hours spent socializing with friends in the past week (continuous variable grouped into ranges like 0-1, 1-5, etc.).\n",
    "- **COVID_prevention_masks**: \n",
    "    - Frequency of wearing a mask in public (ordinal variable, possibly “Always,” “Often,” “Sometimes,” “Rarely,” and “Never”).\n",
    "- **COVID_prevention_distancing**: \n",
    "    - Frequency of practicing physical distancing in public (ordinal variable, similar scale to mask-wearing).\n",
    "    \n",
    "### Variables and Visualization Choices: \n",
    "    \n",
    "I chose these variables to examine if higher social activity correlates with a decrease in adherence to COVID-19 preventive behaviors. This combination could give results showing how social behavior influences personal risk perception. Additionally, understanding if there’s a trade-off between social interaction and preventive behavior could help develop methods and community intervention that encourages safer socializing methods if pandemics ever happen again in the future.\n",
    "\n",
    "I hope to find if the hours spent socializing with friends in the past week responds with lower ranked ordinal variables of wearing masks in public as well as the practice of physically distancing in public.\n",
    "\n",
    "For this investigation I will find the mean social time with friends across different levels of mask-wearing and physical distancing adherence and also use a frequency distribution (historgram) for mask-wearing and distancing behaviors in each social time group.\n",
    "\n",
    "I could use a box plot to show how social time with friends varies across different categories of mask-wearing and physical distancing, allowing me to observe if there is a decrease in preventive behaviors among those who socialize more frequently. A box plot is suitable here as it shows the spread of social time data and highlights any outliers or clusters that indicate varying behavior\n",
    "\n",
    "Lastly, to combine all variables together, I could use a stacked bar chart of mask wearing frequency by social time group. This visualizes whether individuals who spend more time socializing tend to wear masks or distance less frequently. I can also use a color coded scatter plot to visualize clustering patterns in socializing time and mask-wearing or distancing behavior. "
   ]
  },
  {
   "cell_type": "markdown",
   "id": "5b52cddb",
   "metadata": {},
   "source": [
    "### Analysis of Data\n",
    "Multiple methods of analysis can be used to clearly determine if there is a relationship between time spent socializing and adherance of COVID-19:\n",
    "\n",
    "**Spearman Rank Correlation:**\n",
    "\n",
    "The spearman rank of correlation determines if there is a linear correlation between two variables social time spent and mask wearing & social distance practicing, by measuring the strength and direction of a monotonic relationship between them. This could be a good starting test to begin the analysis to see if this test is worth investigating. To conduct this test, we should assume both variables should be ordinal and related monotonically.\n",
    "\n",
    "**Chi-Square Test of Independence:**\n",
    "\n",
    "As correlation is not causation, we need to look further into the variables' relationship. The Chi-squared test can be used alongside categorical data to determine whether two variables are independent (testing for dependency in this case). Both variables must be categorical data, which can be done by binning socializing times into categories (0-1, 1-5...), and using the already categorical data of adherence levels  (“Always,” “Often,” “Sometimes,” “Rarely,” “Never” for mask-wearing or social distancing).\n",
    "\n",
    "The purpose of this test for independence is to determine whether one variable (e.g., mask-wearing frequency) is independent of the other variable. In this case, we look for dependency.\n",
    "\n",
    "This test requires some assumptions: An individual's response should not influence or correlate with another's response at the time of response. Furthermore, as stated above, the variables involved in the test should be categorical (nominal or ordinal).\n",
    "\n",
    "**Bootstrapped Sampling and Sampling Distribution with a Hypothesis test**\n",
    "\n",
    "A bootstrapped sampling distribution can be used alongside conducting a hypothesis test to determine whether or not there is relationship between social interactions and COVID-19 preventive behaviors. Bootstrapping calcualtes confidence intervals for each group’s mean and even test differences between groups. This could be great as bootstrapping does not assume that the underlying data follows a normal distribution, which is beneficial if the data has skewed distributions, as can happen with self-reported behaviors. Bootstrapping can provide an empirical distribution of the test statistic to help you calculate significance levels when we can't assume normality. A simple structure of the hypothesis test is shown below:\n",
    "- Null Hypothesis (H0): There is no difference in adherence to COVID-19 prevention practices between people who spend more time socializing and those who spend less time socializing.\n",
    "- Alternative Hypothesis (H1): People who allocate more time to social interactions have lower adherence to COVID-19 prevention practices.\n",
    "\n",
    "The data can be grouped based on hours spent socializing in categories, in which bootstrapping is done to create a sampling distribution with the mean adherance score.\n",
    "\n",
    "If the results indicate that higher socialization is associated with lower adherence to COVID-19 practices, the data may support the alternative hypothesis."
   ]
  },
  {
   "cell_type": "markdown",
   "id": "c7677105",
   "metadata": {},
   "source": [
    "### Hypothesis/results and discussion\n",
    "\n",
    "In this investigation examining the relationship between time spent socializing and adherence to COVID-19 prevention practices, I hypothesized that individuals who allocated more time to social interactions would demonstrate lower adherence to preventive behaviors, such as wearing masks and practicing social distancing.\n",
    "\n",
    "Utilizing spearman's rank for correlation, chi-squared test for independence, and hypothesis testing with a bootstrapped sample, I believe the results would show a positive relationship between time spent socializing and adherence to COVID-19 prevention practices, where participants who reported spending more hours socializing in the past week tended to adhere less consistently to COVID-19 preventive measures.\n",
    "\n",
    "#### Limitations of Investigation:\n",
    "**Random Sampling:**\n",
    "- Data should be randomly sampled, but this data is self-reported / convenience-sampled, which may lead to bias.\n",
    "**Independence of Observations:**\n",
    "- Analyses assume that observations are independent. However, this assumption may not be true in this investgation as these surveys could be done in groups or clusters of social networks, which may lead to levels of dependency.\n"
   ]
  }
 ],
 "metadata": {
  "kernelspec": {
   "display_name": "Python 3 (ipykernel)",
   "language": "python",
   "name": "python3"
  },
  "language_info": {
   "codemirror_mode": {
    "name": "ipython",
    "version": 3
   },
   "file_extension": ".py",
   "mimetype": "text/x-python",
   "name": "python",
   "nbconvert_exporter": "python",
   "pygments_lexer": "ipython3",
   "version": "3.11.6"
  }
 },
 "nbformat": 4,
 "nbformat_minor": 5
}
